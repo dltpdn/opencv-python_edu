{
 "cells": [
  {
   "cell_type": "code",
   "execution_count": 2,
   "metadata": {},
   "outputs": [
    {
     "name": "stdout",
     "output_type": "stream",
     "text": [
      "default (240, 195, 3) color (240, 195, 3) unchanged (240, 195, 4)\n"
     ]
    }
   ],
   "source": [
    "# %load rgba.py\n",
    "import cv2\n",
    "import numpy as np\n",
    "\n",
    "img = cv2.imread('../img/opencv_logo.png')\n",
    "bgr = cv2.imread('../img/opencv_logo.png', cv2.IMREAD_COLOR)\n",
    "bgra = cv2.imread('../img/opencv_logo.png', cv2.IMREAD_UNCHANGED)\n",
    "print(\"default\", img.shape, \"color\", bgr.shape, \"unchanged\", bgra.shape)\n",
    "\n",
    "cv2.imshow('bgr', bgr)\n",
    "cv2.imshow('bgra', bgra)\n",
    "cv2.imshow('alpha', bgra[:,:,3])\n",
    "cv2.waitKey(0)\n",
    "cv2.destroyAllWindows()"
   ]
  },
  {
   "cell_type": "code",
   "execution_count": 4,
   "metadata": {
    "collapsed": true
   },
   "outputs": [],
   "source": [
    "# %load bgr2gray.py\n",
    "import cv2\n",
    "import numpy as np\n",
    "\n",
    "img = cv2.imread('../img/girl.jpg')\n",
    "\n",
    "img2 = img.astype(np.uint16)                # dtype 변경 ---①\n",
    "b,g,r = cv2.split(img2)                     # 채널 별로 분리 ---②\n",
    "gray1 = ((b + g + r)/3).astype(np.uint8)    # 평균 값 연산후 dtype 변경 ---③\n",
    "\n",
    "gray2 = cv2.cvtColor(img, cv2.COLOR_BGR2GRAY) # BGR을 그레이 스케일로 변경 ---④\n",
    "cv2.imshow('original', img)\n",
    "cv2.imshow('gray1', gray1)\n",
    "cv2.imshow('gray2', gray2)\n",
    "\n",
    "cv2.waitKey(0)\n",
    "cv2.destroyAllWindows()"
   ]
  },
  {
   "cell_type": "code",
   "execution_count": 2,
   "metadata": {
    "collapsed": true
   },
   "outputs": [],
   "source": [
    "# %load blending_alpha.py\n",
    "import cv2\n",
    "import numpy as np\n",
    "\n",
    "alpha = 0.5 # 합성에 사용할 알파 값\n",
    "\n",
    "#---① 합성에 사용할 영상 읽기\n",
    "img1 = cv2.imread('../img/wing_wall.jpg')\n",
    "img2 = cv2.imread('../img/yate.jpg')\n",
    "\n",
    "# ---② NumPy 배열에 수식을 직접 연산해서 알파 블렌딩 적용\n",
    "blended = img1 * alpha + img2 * (1-alpha)\n",
    "blended = blended.astype(np.uint8) # 소수점 발생을 제거하기 위함\n",
    "cv2.imshow('img1 * alpha + img2 * (1-alpha)', blended)\n",
    "\n",
    "# ---③ addWeighted() 함수로 알파 블렌딩 적용\n",
    "dst = cv2.addWeighted(img1, alpha, img2, (1-alpha), 0) \n",
    "cv2.imshow('cv2.addWeighted', dst)\n",
    "\n",
    "cv2.waitKey(0)\n",
    "cv2.destroyAllWindows()"
   ]
  },
  {
   "cell_type": "code",
   "execution_count": 4,
   "metadata": {},
   "outputs": [
    {
     "name": "stdout",
     "output_type": "stream",
     "text": [
      "(475, 640, 3) (475, 640, 3)\n"
     ]
    }
   ],
   "source": [
    "# %load blending_alpha_trackbar.py\n",
    "import cv2\n",
    "import numpy as np\n",
    "\n",
    "win_name = 'Alpha blending'     # 창 이름\n",
    "trackbar_name = 'fade'          # 트렉바 이름\n",
    "\n",
    "# ---① 트렉바 이벤트 핸들러 함수\n",
    "def onChange(x):\n",
    "    alpha = x/100\n",
    "    dst = cv2.addWeighted(img1, 1-alpha, img2, alpha, 0) \n",
    "    cv2.imshow(win_name, dst)\n",
    "\n",
    "\n",
    "img1 = cv2.imread('../img/man_face.jpg')\n",
    "img2 = cv2.imread('../img/lion_face.jpg')\n",
    "print(img1.shape, img2.shape)\n",
    "cv2.imshow(win_name, img1)\n",
    "cv2.createTrackbar(trackbar_name, win_name, 0, 100, onChange)\n",
    "\n",
    "cv2.waitKey()\n",
    "cv2.destroyAllWindows()"
   ]
  }
 ],
 "metadata": {
  "kernelspec": {
   "display_name": "Python 3",
   "language": "python",
   "name": "python3"
  },
  "language_info": {
   "codemirror_mode": {
    "name": "ipython",
    "version": 3
   },
   "file_extension": ".py",
   "mimetype": "text/x-python",
   "name": "python",
   "nbconvert_exporter": "python",
   "pygments_lexer": "ipython3",
   "version": "3.6.4"
  }
 },
 "nbformat": 4,
 "nbformat_minor": 2
}
