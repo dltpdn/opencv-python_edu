{
 "cells": [
  {
   "cell_type": "code",
   "execution_count": 2,
   "metadata": {},
   "outputs": [
    {
     "name": "stdout",
     "output_type": "stream",
     "text": [
      "default (240, 195, 3) color (240, 195, 3) unchanged (240, 195, 4)\n"
     ]
    }
   ],
   "source": [
    "# %load rgba.py\n",
    "import cv2\n",
    "import numpy as np\n",
    "\n",
    "img = cv2.imread('../img/opencv_logo.png')\n",
    "bgr = cv2.imread('../img/opencv_logo.png', cv2.IMREAD_COLOR)\n",
    "bgra = cv2.imread('../img/opencv_logo.png', cv2.IMREAD_UNCHANGED)\n",
    "print(\"default\", img.shape, \"color\", bgr.shape, \"unchanged\", bgra.shape)\n",
    "\n",
    "cv2.imshow('bgr', bgr)\n",
    "cv2.imshow('bgra', bgra)\n",
    "cv2.imshow('alpha', bgra[:,:,3])\n",
    "cv2.waitKey(0)\n",
    "cv2.destroyAllWindows()"
   ]
  },
  {
   "cell_type": "code",
   "execution_count": 4,
   "metadata": {},
   "outputs": [],
   "source": [
    "# %load bgr2gray.py\n",
    "import cv2\n",
    "import numpy as np\n",
    "\n",
    "img = cv2.imread('../img/girl.jpg')\n",
    "\n",
    "img2 = img.astype(np.uint16)                # dtype 변경 ---①\n",
    "b,g,r = cv2.split(img2)                     # 채널 별로 분리 ---②\n",
    "gray1 = ((b + g + r)/3).astype(np.uint8)    # 평균 값 연산후 dtype 변경 ---③\n",
    "\n",
    "gray2 = cv2.cvtColor(img, cv2.COLOR_BGR2GRAY) # BGR을 그레이 스케일로 변경 ---④\n",
    "cv2.imshow('original', img)\n",
    "cv2.imshow('gray1', gray1)\n",
    "cv2.imshow('gray2', gray2)\n",
    "\n",
    "cv2.waitKey(0)\n",
    "cv2.destroyAllWindows()"
   ]
  }
 ],
 "metadata": {
  "kernelspec": {
   "display_name": "Python 3",
   "language": "python",
   "name": "python3"
  },
  "language_info": {
   "codemirror_mode": {
    "name": "ipython",
    "version": 3
   },
   "file_extension": ".py",
   "mimetype": "text/x-python",
   "name": "python",
   "nbconvert_exporter": "python",
   "pygments_lexer": "ipython3",
   "version": "3.6.4"
  }
 },
 "nbformat": 4,
 "nbformat_minor": 2
}
